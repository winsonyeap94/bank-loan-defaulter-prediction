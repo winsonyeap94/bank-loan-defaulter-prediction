{
 "cells": [
  {
   "cell_type": "code",
   "execution_count": 1,
   "metadata": {},
   "outputs": [
    {
     "data": {
      "text/html": [
       "<pre style=\"white-space:pre;overflow-x:auto;line-height:normal;font-family:Menlo,'DejaVu Sans Mono',consolas,'Courier New',monospace\"><span style=\"color: #7fbfbf; text-decoration-color: #7fbfbf\">[08/15/24 13:25:36] </span><span style=\"color: #000080; text-decoration-color: #000080\">INFO    </span> Using                                                                  <a href=\"file:///home/winsonyeap/miniconda3/envs/bank-loan-defaulter-prediction/lib/python3.11/site-packages/kedro/framework/project/__init__.py\" target=\"_blank\"><span style=\"color: #7f7f7f; text-decoration-color: #7f7f7f\">__init__.py</span></a><span style=\"color: #7f7f7f; text-decoration-color: #7f7f7f\">:</span><a href=\"file:///home/winsonyeap/miniconda3/envs/bank-loan-defaulter-prediction/lib/python3.11/site-packages/kedro/framework/project/__init__.py#246\" target=\"_blank\"><span style=\"color: #7f7f7f; text-decoration-color: #7f7f7f\">246</span></a>\n",
       "<span style=\"color: #7fbfbf; text-decoration-color: #7fbfbf\">                    </span>         <span style=\"color: #008000; text-decoration-color: #008000\">'/home/winsonyeap/miniconda3/envs/bank-loan-defaulter-prediction/lib/p</span> <span style=\"color: #7f7f7f; text-decoration-color: #7f7f7f\">               </span>\n",
       "<span style=\"color: #7fbfbf; text-decoration-color: #7fbfbf\">                    </span>         <span style=\"color: #008000; text-decoration-color: #008000\">ython3.11/site-packages/kedro/framework/project/rich_logging.yml'</span> as   <span style=\"color: #7f7f7f; text-decoration-color: #7f7f7f\">               </span>\n",
       "<span style=\"color: #7fbfbf; text-decoration-color: #7fbfbf\">                    </span>         logging configuration.                                                 <span style=\"color: #7f7f7f; text-decoration-color: #7f7f7f\">               </span>\n",
       "</pre>\n"
      ],
      "text/plain": [
       "\u001b[2;36m[08/15/24 13:25:36]\u001b[0m\u001b[2;36m \u001b[0m\u001b[34mINFO    \u001b[0m Using                                                                  \u001b]8;id=63176;file:///home/winsonyeap/miniconda3/envs/bank-loan-defaulter-prediction/lib/python3.11/site-packages/kedro/framework/project/__init__.py\u001b\\\u001b[2m__init__.py\u001b[0m\u001b]8;;\u001b\\\u001b[2m:\u001b[0m\u001b]8;id=501007;file:///home/winsonyeap/miniconda3/envs/bank-loan-defaulter-prediction/lib/python3.11/site-packages/kedro/framework/project/__init__.py#246\u001b\\\u001b[2m246\u001b[0m\u001b]8;;\u001b\\\n",
       "\u001b[2;36m                    \u001b[0m         \u001b[32m'/home/winsonyeap/miniconda3/envs/bank-loan-defaulter-prediction/lib/p\u001b[0m \u001b[2m               \u001b[0m\n",
       "\u001b[2;36m                    \u001b[0m         \u001b[32mython3.11/site-packages/kedro/framework/project/rich_logging.yml'\u001b[0m as   \u001b[2m               \u001b[0m\n",
       "\u001b[2;36m                    \u001b[0m         logging configuration.                                                 \u001b[2m               \u001b[0m\n"
      ]
     },
     "metadata": {},
     "output_type": "display_data"
    },
    {
     "data": {
      "text/html": [
       "<pre style=\"white-space:pre;overflow-x:auto;line-height:normal;font-family:Menlo,'DejaVu Sans Mono',consolas,'Courier New',monospace\"><span style=\"color: #7fbfbf; text-decoration-color: #7fbfbf\">                    </span><span style=\"color: #000080; text-decoration-color: #000080\">INFO    </span> Registered line magic <span style=\"color: #008000; text-decoration-color: #008000\">'%reload_kedro'</span>                                   <a href=\"file:///home/winsonyeap/miniconda3/envs/bank-loan-defaulter-prediction/lib/python3.11/site-packages/kedro/ipython/__init__.py\" target=\"_blank\"><span style=\"color: #7f7f7f; text-decoration-color: #7f7f7f\">__init__.py</span></a><span style=\"color: #7f7f7f; text-decoration-color: #7f7f7f\">:</span><a href=\"file:///home/winsonyeap/miniconda3/envs/bank-loan-defaulter-prediction/lib/python3.11/site-packages/kedro/ipython/__init__.py#58\" target=\"_blank\"><span style=\"color: #7f7f7f; text-decoration-color: #7f7f7f\">58</span></a>\n",
       "</pre>\n"
      ],
      "text/plain": [
       "\u001b[2;36m                   \u001b[0m\u001b[2;36m \u001b[0m\u001b[34mINFO    \u001b[0m Registered line magic \u001b[32m'%reload_kedro'\u001b[0m                                   \u001b]8;id=660225;file:///home/winsonyeap/miniconda3/envs/bank-loan-defaulter-prediction/lib/python3.11/site-packages/kedro/ipython/__init__.py\u001b\\\u001b[2m__init__.py\u001b[0m\u001b]8;;\u001b\\\u001b[2m:\u001b[0m\u001b]8;id=922832;file:///home/winsonyeap/miniconda3/envs/bank-loan-defaulter-prediction/lib/python3.11/site-packages/kedro/ipython/__init__.py#58\u001b\\\u001b[2m58\u001b[0m\u001b]8;;\u001b\\\n"
      ]
     },
     "metadata": {},
     "output_type": "display_data"
    },
    {
     "data": {
      "text/html": [
       "<pre style=\"white-space:pre;overflow-x:auto;line-height:normal;font-family:Menlo,'DejaVu Sans Mono',consolas,'Courier New',monospace\"><span style=\"color: #7fbfbf; text-decoration-color: #7fbfbf\">                    </span><span style=\"color: #000080; text-decoration-color: #000080\">INFO    </span> Registered line magic <span style=\"color: #008000; text-decoration-color: #008000\">'%load_node'</span>                                      <a href=\"file:///home/winsonyeap/miniconda3/envs/bank-loan-defaulter-prediction/lib/python3.11/site-packages/kedro/ipython/__init__.py\" target=\"_blank\"><span style=\"color: #7f7f7f; text-decoration-color: #7f7f7f\">__init__.py</span></a><span style=\"color: #7f7f7f; text-decoration-color: #7f7f7f\">:</span><a href=\"file:///home/winsonyeap/miniconda3/envs/bank-loan-defaulter-prediction/lib/python3.11/site-packages/kedro/ipython/__init__.py#60\" target=\"_blank\"><span style=\"color: #7f7f7f; text-decoration-color: #7f7f7f\">60</span></a>\n",
       "</pre>\n"
      ],
      "text/plain": [
       "\u001b[2;36m                   \u001b[0m\u001b[2;36m \u001b[0m\u001b[34mINFO    \u001b[0m Registered line magic \u001b[32m'%load_node'\u001b[0m                                      \u001b]8;id=954215;file:///home/winsonyeap/miniconda3/envs/bank-loan-defaulter-prediction/lib/python3.11/site-packages/kedro/ipython/__init__.py\u001b\\\u001b[2m__init__.py\u001b[0m\u001b]8;;\u001b\\\u001b[2m:\u001b[0m\u001b]8;id=963496;file:///home/winsonyeap/miniconda3/envs/bank-loan-defaulter-prediction/lib/python3.11/site-packages/kedro/ipython/__init__.py#60\u001b\\\u001b[2m60\u001b[0m\u001b]8;;\u001b\\\n"
      ]
     },
     "metadata": {},
     "output_type": "display_data"
    },
    {
     "data": {
      "text/html": [
       "<pre style=\"white-space:pre;overflow-x:auto;line-height:normal;font-family:Menlo,'DejaVu Sans Mono',consolas,'Courier New',monospace\"><span style=\"color: #7fbfbf; text-decoration-color: #7fbfbf\">                    </span><span style=\"color: #000080; text-decoration-color: #000080\">INFO    </span> Resolved project path as: <span style=\"color: #800080; text-decoration-color: #800080\">/mnt/c/Users/</span><span style=\"color: #ff00ff; text-decoration-color: #ff00ff\">Winson</span> Yeap/Documents/<span style=\"color: #008080; text-decoration-color: #008080; font-weight: bold\">0</span>         <a href=\"file:///home/winsonyeap/miniconda3/envs/bank-loan-defaulter-prediction/lib/python3.11/site-packages/kedro/ipython/__init__.py\" target=\"_blank\"><span style=\"color: #7f7f7f; text-decoration-color: #7f7f7f\">__init__.py</span></a><span style=\"color: #7f7f7f; text-decoration-color: #7f7f7f\">:</span><a href=\"file:///home/winsonyeap/miniconda3/envs/bank-loan-defaulter-prediction/lib/python3.11/site-packages/kedro/ipython/__init__.py#175\" target=\"_blank\"><span style=\"color: #7f7f7f; text-decoration-color: #7f7f7f\">175</span></a>\n",
       "<span style=\"color: #7fbfbf; text-decoration-color: #7fbfbf\">                    </span>         Python/Kaggle/bank-loan-defaulter-prediction.                          <span style=\"color: #7f7f7f; text-decoration-color: #7f7f7f\">               </span>\n",
       "<span style=\"color: #7fbfbf; text-decoration-color: #7fbfbf\">                    </span>         To set a different path, run <span style=\"color: #008000; text-decoration-color: #008000\">'%reload_kedro &lt;project_root&gt;'</span>            <span style=\"color: #7f7f7f; text-decoration-color: #7f7f7f\">               </span>\n",
       "</pre>\n"
      ],
      "text/plain": [
       "\u001b[2;36m                   \u001b[0m\u001b[2;36m \u001b[0m\u001b[34mINFO    \u001b[0m Resolved project path as: \u001b[35m/mnt/c/Users/\u001b[0m\u001b[95mWinson\u001b[0m Yeap/Documents/\u001b[1;36m0\u001b[0m         \u001b]8;id=398210;file:///home/winsonyeap/miniconda3/envs/bank-loan-defaulter-prediction/lib/python3.11/site-packages/kedro/ipython/__init__.py\u001b\\\u001b[2m__init__.py\u001b[0m\u001b]8;;\u001b\\\u001b[2m:\u001b[0m\u001b]8;id=457541;file:///home/winsonyeap/miniconda3/envs/bank-loan-defaulter-prediction/lib/python3.11/site-packages/kedro/ipython/__init__.py#175\u001b\\\u001b[2m175\u001b[0m\u001b]8;;\u001b\\\n",
       "\u001b[2;36m                    \u001b[0m         Python/Kaggle/bank-loan-defaulter-prediction.                          \u001b[2m               \u001b[0m\n",
       "\u001b[2;36m                    \u001b[0m         To set a different path, run \u001b[32m'%reload_kedro \u001b[0m\u001b[32m<\u001b[0m\u001b[32mproject_root\u001b[0m\u001b[32m>\u001b[0m\u001b[32m'\u001b[0m            \u001b[2m               \u001b[0m\n"
      ]
     },
     "metadata": {},
     "output_type": "display_data"
    },
    {
     "data": {
      "text/html": [
       "<pre style=\"white-space:pre;overflow-x:auto;line-height:normal;font-family:Menlo,'DejaVu Sans Mono',consolas,'Courier New',monospace\"><span style=\"color: #7fbfbf; text-decoration-color: #7fbfbf\">[08/15/24 13:25:38] </span><span style=\"color: #000080; text-decoration-color: #000080\">INFO    </span> Kedro project Bank Loan Defaulter Prediction                           <a href=\"file:///home/winsonyeap/miniconda3/envs/bank-loan-defaulter-prediction/lib/python3.11/site-packages/kedro/ipython/__init__.py\" target=\"_blank\"><span style=\"color: #7f7f7f; text-decoration-color: #7f7f7f\">__init__.py</span></a><span style=\"color: #7f7f7f; text-decoration-color: #7f7f7f\">:</span><a href=\"file:///home/winsonyeap/miniconda3/envs/bank-loan-defaulter-prediction/lib/python3.11/site-packages/kedro/ipython/__init__.py#141\" target=\"_blank\"><span style=\"color: #7f7f7f; text-decoration-color: #7f7f7f\">141</span></a>\n",
       "</pre>\n"
      ],
      "text/plain": [
       "\u001b[2;36m[08/15/24 13:25:38]\u001b[0m\u001b[2;36m \u001b[0m\u001b[34mINFO    \u001b[0m Kedro project Bank Loan Defaulter Prediction                           \u001b]8;id=316624;file:///home/winsonyeap/miniconda3/envs/bank-loan-defaulter-prediction/lib/python3.11/site-packages/kedro/ipython/__init__.py\u001b\\\u001b[2m__init__.py\u001b[0m\u001b]8;;\u001b\\\u001b[2m:\u001b[0m\u001b]8;id=138918;file:///home/winsonyeap/miniconda3/envs/bank-loan-defaulter-prediction/lib/python3.11/site-packages/kedro/ipython/__init__.py#141\u001b\\\u001b[2m141\u001b[0m\u001b]8;;\u001b\\\n"
      ]
     },
     "metadata": {},
     "output_type": "display_data"
    },
    {
     "data": {
      "text/html": [
       "<pre style=\"white-space:pre;overflow-x:auto;line-height:normal;font-family:Menlo,'DejaVu Sans Mono',consolas,'Courier New',monospace\"><span style=\"color: #7fbfbf; text-decoration-color: #7fbfbf\">                    </span><span style=\"color: #000080; text-decoration-color: #000080\">INFO    </span> Defined global variable <span style=\"color: #008000; text-decoration-color: #008000\">'context'</span>, <span style=\"color: #008000; text-decoration-color: #008000\">'session'</span>, <span style=\"color: #008000; text-decoration-color: #008000\">'catalog'</span> and            <a href=\"file:///home/winsonyeap/miniconda3/envs/bank-loan-defaulter-prediction/lib/python3.11/site-packages/kedro/ipython/__init__.py\" target=\"_blank\"><span style=\"color: #7f7f7f; text-decoration-color: #7f7f7f\">__init__.py</span></a><span style=\"color: #7f7f7f; text-decoration-color: #7f7f7f\">:</span><a href=\"file:///home/winsonyeap/miniconda3/envs/bank-loan-defaulter-prediction/lib/python3.11/site-packages/kedro/ipython/__init__.py#142\" target=\"_blank\"><span style=\"color: #7f7f7f; text-decoration-color: #7f7f7f\">142</span></a>\n",
       "<span style=\"color: #7fbfbf; text-decoration-color: #7fbfbf\">                    </span>         <span style=\"color: #008000; text-decoration-color: #008000\">'pipelines'</span>                                                            <span style=\"color: #7f7f7f; text-decoration-color: #7f7f7f\">               </span>\n",
       "</pre>\n"
      ],
      "text/plain": [
       "\u001b[2;36m                   \u001b[0m\u001b[2;36m \u001b[0m\u001b[34mINFO    \u001b[0m Defined global variable \u001b[32m'context'\u001b[0m, \u001b[32m'session'\u001b[0m, \u001b[32m'catalog'\u001b[0m and            \u001b]8;id=438396;file:///home/winsonyeap/miniconda3/envs/bank-loan-defaulter-prediction/lib/python3.11/site-packages/kedro/ipython/__init__.py\u001b\\\u001b[2m__init__.py\u001b[0m\u001b]8;;\u001b\\\u001b[2m:\u001b[0m\u001b]8;id=862474;file:///home/winsonyeap/miniconda3/envs/bank-loan-defaulter-prediction/lib/python3.11/site-packages/kedro/ipython/__init__.py#142\u001b\\\u001b[2m142\u001b[0m\u001b]8;;\u001b\\\n",
       "\u001b[2;36m                    \u001b[0m         \u001b[32m'pipelines'\u001b[0m                                                            \u001b[2m               \u001b[0m\n"
      ]
     },
     "metadata": {},
     "output_type": "display_data"
    },
    {
     "data": {
      "text/html": [
       "<pre style=\"white-space:pre;overflow-x:auto;line-height:normal;font-family:Menlo,'DejaVu Sans Mono',consolas,'Courier New',monospace\"><span style=\"color: #7fbfbf; text-decoration-color: #7fbfbf\">[08/15/24 13:25:39] </span><span style=\"color: #000080; text-decoration-color: #000080\">INFO    </span> Registered line magic <span style=\"color: #008000; text-decoration-color: #008000\">'run_viz'</span>                                        <a href=\"file:///home/winsonyeap/miniconda3/envs/bank-loan-defaulter-prediction/lib/python3.11/site-packages/kedro/ipython/__init__.py\" target=\"_blank\"><span style=\"color: #7f7f7f; text-decoration-color: #7f7f7f\">__init__.py</span></a><span style=\"color: #7f7f7f; text-decoration-color: #7f7f7f\">:</span><a href=\"file:///home/winsonyeap/miniconda3/envs/bank-loan-defaulter-prediction/lib/python3.11/site-packages/kedro/ipython/__init__.py#148\" target=\"_blank\"><span style=\"color: #7f7f7f; text-decoration-color: #7f7f7f\">148</span></a>\n",
       "</pre>\n"
      ],
      "text/plain": [
       "\u001b[2;36m[08/15/24 13:25:39]\u001b[0m\u001b[2;36m \u001b[0m\u001b[34mINFO    \u001b[0m Registered line magic \u001b[32m'run_viz'\u001b[0m                                        \u001b]8;id=844219;file:///home/winsonyeap/miniconda3/envs/bank-loan-defaulter-prediction/lib/python3.11/site-packages/kedro/ipython/__init__.py\u001b\\\u001b[2m__init__.py\u001b[0m\u001b]8;;\u001b\\\u001b[2m:\u001b[0m\u001b]8;id=38578;file:///home/winsonyeap/miniconda3/envs/bank-loan-defaulter-prediction/lib/python3.11/site-packages/kedro/ipython/__init__.py#148\u001b\\\u001b[2m148\u001b[0m\u001b]8;;\u001b\\\n"
      ]
     },
     "metadata": {},
     "output_type": "display_data"
    }
   ],
   "source": [
    "%load_ext kedro.ipython"
   ]
  },
  {
   "cell_type": "code",
   "execution_count": 2,
   "metadata": {},
   "outputs": [],
   "source": [
    "import logging\n",
    "\n",
    "import matplotlib.pyplot as plt\n",
    "import pandas as pd\n",
    "\n",
    "pd.set_option('display.width', None)\n",
    "pd.set_option('display.max_columns', None)\n",
    "\n",
    "_logger = logging.getLogger(__name__)\n",
    "_logger.setLevel(logging.DEBUG)"
   ]
  },
  {
   "cell_type": "code",
   "execution_count": 3,
   "metadata": {},
   "outputs": [
    {
     "data": {
      "text/html": [
       "<pre style=\"white-space:pre;overflow-x:auto;line-height:normal;font-family:Menlo,'DejaVu Sans Mono',consolas,'Courier New',monospace\"></pre>\n"
      ],
      "text/plain": []
     },
     "metadata": {},
     "output_type": "display_data"
    },
    {
     "data": {
      "text/plain": [
       "\n",
       "\u001b[1m[\u001b[0m\n",
       "    \u001b[32m'train_dataset'\u001b[0m,\n",
       "    \u001b[32m'test_dataset'\u001b[0m,\n",
       "    \u001b[32m'submission_dataset'\u001b[0m,\n",
       "    \u001b[32m'preprocessed_train_dataset'\u001b[0m,\n",
       "    \u001b[32m'preprocessed_test_dataset'\u001b[0m,\n",
       "    \u001b[32m'parameters'\u001b[0m\n",
       "\u001b[1m]\u001b[0m"
      ]
     },
     "execution_count": 3,
     "metadata": {},
     "output_type": "execute_result"
    }
   ],
   "source": [
    "catalog.list()"
   ]
  },
  {
   "cell_type": "code",
   "execution_count": 4,
   "metadata": {},
   "outputs": [
    {
     "data": {
      "text/html": [
       "<pre style=\"white-space:pre;overflow-x:auto;line-height:normal;font-family:Menlo,'DejaVu Sans Mono',consolas,'Courier New',monospace\"><span style=\"color: #7fbfbf; text-decoration-color: #7fbfbf\">                    </span><span style=\"color: #000080; text-decoration-color: #000080\">INFO    </span> Loading data from preprocessed_train_dataset <span style=\"font-weight: bold\">(</span>FeatherDataset<span style=\"font-weight: bold\">)</span><span style=\"color: #808000; text-decoration-color: #808000\">...</span>   <a href=\"file:///home/winsonyeap/miniconda3/envs/bank-loan-defaulter-prediction/lib/python3.11/site-packages/kedro/io/data_catalog.py\" target=\"_blank\"><span style=\"color: #7f7f7f; text-decoration-color: #7f7f7f\">data_catalog.py</span></a><span style=\"color: #7f7f7f; text-decoration-color: #7f7f7f\">:</span><a href=\"file:///home/winsonyeap/miniconda3/envs/bank-loan-defaulter-prediction/lib/python3.11/site-packages/kedro/io/data_catalog.py#537\" target=\"_blank\"><span style=\"color: #7f7f7f; text-decoration-color: #7f7f7f\">537</span></a>\n",
       "</pre>\n"
      ],
      "text/plain": [
       "\u001b[2;36m                   \u001b[0m\u001b[2;36m \u001b[0m\u001b[34mINFO    \u001b[0m Loading data from preprocessed_train_dataset \u001b[1m(\u001b[0mFeatherDataset\u001b[1m)\u001b[0m\u001b[33m...\u001b[0m   \u001b]8;id=258403;file:///home/winsonyeap/miniconda3/envs/bank-loan-defaulter-prediction/lib/python3.11/site-packages/kedro/io/data_catalog.py\u001b\\\u001b[2mdata_catalog.py\u001b[0m\u001b]8;;\u001b\\\u001b[2m:\u001b[0m\u001b]8;id=796433;file:///home/winsonyeap/miniconda3/envs/bank-loan-defaulter-prediction/lib/python3.11/site-packages/kedro/io/data_catalog.py#537\u001b\\\u001b[2m537\u001b[0m\u001b]8;;\u001b\\\n"
      ]
     },
     "metadata": {},
     "output_type": "display_data"
    },
    {
     "data": {
      "text/html": [
       "<pre style=\"white-space:pre;overflow-x:auto;line-height:normal;font-family:Menlo,'DejaVu Sans Mono',consolas,'Courier New',monospace\"><span style=\"color: #7fbfbf; text-decoration-color: #7fbfbf\">                    </span><span style=\"color: #000080; text-decoration-color: #000080\">INFO    </span> Loading data from preprocessed_test_dataset <span style=\"font-weight: bold\">(</span>FeatherDataset<span style=\"font-weight: bold\">)</span><span style=\"color: #808000; text-decoration-color: #808000\">...</span>    <a href=\"file:///home/winsonyeap/miniconda3/envs/bank-loan-defaulter-prediction/lib/python3.11/site-packages/kedro/io/data_catalog.py\" target=\"_blank\"><span style=\"color: #7f7f7f; text-decoration-color: #7f7f7f\">data_catalog.py</span></a><span style=\"color: #7f7f7f; text-decoration-color: #7f7f7f\">:</span><a href=\"file:///home/winsonyeap/miniconda3/envs/bank-loan-defaulter-prediction/lib/python3.11/site-packages/kedro/io/data_catalog.py#537\" target=\"_blank\"><span style=\"color: #7f7f7f; text-decoration-color: #7f7f7f\">537</span></a>\n",
       "</pre>\n"
      ],
      "text/plain": [
       "\u001b[2;36m                   \u001b[0m\u001b[2;36m \u001b[0m\u001b[34mINFO    \u001b[0m Loading data from preprocessed_test_dataset \u001b[1m(\u001b[0mFeatherDataset\u001b[1m)\u001b[0m\u001b[33m...\u001b[0m    \u001b]8;id=195661;file:///home/winsonyeap/miniconda3/envs/bank-loan-defaulter-prediction/lib/python3.11/site-packages/kedro/io/data_catalog.py\u001b\\\u001b[2mdata_catalog.py\u001b[0m\u001b]8;;\u001b\\\u001b[2m:\u001b[0m\u001b]8;id=224549;file:///home/winsonyeap/miniconda3/envs/bank-loan-defaulter-prediction/lib/python3.11/site-packages/kedro/io/data_catalog.py#537\u001b\\\u001b[2m537\u001b[0m\u001b]8;;\u001b\\\n"
      ]
     },
     "metadata": {},
     "output_type": "display_data"
    }
   ],
   "source": [
    "train_df = catalog.load(\"preprocessed_train_dataset\")\n",
    "test_df = catalog.load(\"preprocessed_test_dataset\")"
   ]
  },
  {
   "cell_type": "code",
   "execution_count": 5,
   "metadata": {},
   "outputs": [
    {
     "data": {
      "text/html": [
       "<pre style=\"white-space:pre;overflow-x:auto;line-height:normal;font-family:Menlo,'DejaVu Sans Mono',consolas,'Courier New',monospace\"><span style=\"color: #7fbfbf; text-decoration-color: #7fbfbf\">                    </span><span style=\"color: #000080; text-decoration-color: #000080\">INFO    </span> Train dataset shape: <span style=\"font-weight: bold\">(</span><span style=\"color: #008080; text-decoration-color: #008080; font-weight: bold\">67463</span>, <span style=\"color: #008080; text-decoration-color: #008080; font-weight: bold\">36</span><span style=\"font-weight: bold\">)</span>                                       <a href=\"file:///tmp/ipykernel_17943/2494794621.py\" target=\"_blank\"><span style=\"color: #7f7f7f; text-decoration-color: #7f7f7f\">2494794621.py</span></a><span style=\"color: #7f7f7f; text-decoration-color: #7f7f7f\">:</span><a href=\"file:///tmp/ipykernel_17943/2494794621.py#1\" target=\"_blank\"><span style=\"color: #7f7f7f; text-decoration-color: #7f7f7f\">1</span></a>\n",
       "</pre>\n"
      ],
      "text/plain": [
       "\u001b[2;36m                   \u001b[0m\u001b[2;36m \u001b[0m\u001b[34mINFO    \u001b[0m Train dataset shape: \u001b[1m(\u001b[0m\u001b[1;36m67463\u001b[0m, \u001b[1;36m36\u001b[0m\u001b[1m)\u001b[0m                                       \u001b]8;id=66909;file:///tmp/ipykernel_17943/2494794621.py\u001b\\\u001b[2m2494794621.py\u001b[0m\u001b]8;;\u001b\\\u001b[2m:\u001b[0m\u001b]8;id=754601;file:///tmp/ipykernel_17943/2494794621.py#1\u001b\\\u001b[2m1\u001b[0m\u001b]8;;\u001b\\\n"
      ]
     },
     "metadata": {},
     "output_type": "display_data"
    },
    {
     "data": {
      "text/html": [
       "<pre style=\"white-space:pre;overflow-x:auto;line-height:normal;font-family:Menlo,'DejaVu Sans Mono',consolas,'Courier New',monospace\"><span style=\"color: #7fbfbf; text-decoration-color: #7fbfbf\">                    </span><span style=\"color: #000080; text-decoration-color: #000080\">INFO    </span> Test dataset shape: <span style=\"font-weight: bold\">(</span><span style=\"color: #008080; text-decoration-color: #008080; font-weight: bold\">28913</span>, <span style=\"color: #008080; text-decoration-color: #008080; font-weight: bold\">36</span><span style=\"font-weight: bold\">)</span>                                        <a href=\"file:///tmp/ipykernel_17943/2494794621.py\" target=\"_blank\"><span style=\"color: #7f7f7f; text-decoration-color: #7f7f7f\">2494794621.py</span></a><span style=\"color: #7f7f7f; text-decoration-color: #7f7f7f\">:</span><a href=\"file:///tmp/ipykernel_17943/2494794621.py#2\" target=\"_blank\"><span style=\"color: #7f7f7f; text-decoration-color: #7f7f7f\">2</span></a>\n",
       "</pre>\n"
      ],
      "text/plain": [
       "\u001b[2;36m                   \u001b[0m\u001b[2;36m \u001b[0m\u001b[34mINFO    \u001b[0m Test dataset shape: \u001b[1m(\u001b[0m\u001b[1;36m28913\u001b[0m, \u001b[1;36m36\u001b[0m\u001b[1m)\u001b[0m                                        \u001b]8;id=625890;file:///tmp/ipykernel_17943/2494794621.py\u001b\\\u001b[2m2494794621.py\u001b[0m\u001b]8;;\u001b\\\u001b[2m:\u001b[0m\u001b]8;id=109559;file:///tmp/ipykernel_17943/2494794621.py#2\u001b\\\u001b[2m2\u001b[0m\u001b]8;;\u001b\\\n"
      ]
     },
     "metadata": {},
     "output_type": "display_data"
    },
    {
     "data": {
      "text/html": [
       "<pre style=\"white-space:pre;overflow-x:auto;line-height:normal;font-family:Menlo,'DejaVu Sans Mono',consolas,'Courier New',monospace\"><span style=\"color: #7fbfbf; text-decoration-color: #7fbfbf\">                    </span><span style=\"color: #000080; text-decoration-color: #000080\">INFO    </span> Difference in columns between both datasets: <span style=\"color: #800080; text-decoration-color: #800080; font-weight: bold\">set</span><span style=\"font-weight: bold\">()</span>                     <a href=\"file:///tmp/ipykernel_17943/2494794621.py\" target=\"_blank\"><span style=\"color: #7f7f7f; text-decoration-color: #7f7f7f\">2494794621.py</span></a><span style=\"color: #7f7f7f; text-decoration-color: #7f7f7f\">:</span><a href=\"file:///tmp/ipykernel_17943/2494794621.py#3\" target=\"_blank\"><span style=\"color: #7f7f7f; text-decoration-color: #7f7f7f\">3</span></a>\n",
       "</pre>\n"
      ],
      "text/plain": [
       "\u001b[2;36m                   \u001b[0m\u001b[2;36m \u001b[0m\u001b[34mINFO    \u001b[0m Difference in columns between both datasets: \u001b[1;35mset\u001b[0m\u001b[1m(\u001b[0m\u001b[1m)\u001b[0m                     \u001b]8;id=659092;file:///tmp/ipykernel_17943/2494794621.py\u001b\\\u001b[2m2494794621.py\u001b[0m\u001b]8;;\u001b\\\u001b[2m:\u001b[0m\u001b]8;id=222657;file:///tmp/ipykernel_17943/2494794621.py#3\u001b\\\u001b[2m3\u001b[0m\u001b]8;;\u001b\\\n"
      ]
     },
     "metadata": {},
     "output_type": "display_data"
    },
    {
     "data": {
      "text/html": [
       "<pre style=\"white-space:pre;overflow-x:auto;line-height:normal;font-family:Menlo,'DejaVu Sans Mono',consolas,'Courier New',monospace\"><span style=\"color: #7fbfbf; text-decoration-color: #7fbfbf\">                    </span><span style=\"color: #000080; text-decoration-color: #000080\">INFO    </span> Customer IDs which are in both datasets: <span style=\"color: #800080; text-decoration-color: #800080; font-weight: bold\">set</span><span style=\"font-weight: bold\">()</span>                         <a href=\"file:///tmp/ipykernel_17943/2494794621.py\" target=\"_blank\"><span style=\"color: #7f7f7f; text-decoration-color: #7f7f7f\">2494794621.py</span></a><span style=\"color: #7f7f7f; text-decoration-color: #7f7f7f\">:</span><a href=\"file:///tmp/ipykernel_17943/2494794621.py#4\" target=\"_blank\"><span style=\"color: #7f7f7f; text-decoration-color: #7f7f7f\">4</span></a>\n",
       "</pre>\n"
      ],
      "text/plain": [
       "\u001b[2;36m                   \u001b[0m\u001b[2;36m \u001b[0m\u001b[34mINFO    \u001b[0m Customer IDs which are in both datasets: \u001b[1;35mset\u001b[0m\u001b[1m(\u001b[0m\u001b[1m)\u001b[0m                         \u001b]8;id=859295;file:///tmp/ipykernel_17943/2494794621.py\u001b\\\u001b[2m2494794621.py\u001b[0m\u001b]8;;\u001b\\\u001b[2m:\u001b[0m\u001b]8;id=655574;file:///tmp/ipykernel_17943/2494794621.py#4\u001b\\\u001b[2m4\u001b[0m\u001b]8;;\u001b\\\n"
      ]
     },
     "metadata": {},
     "output_type": "display_data"
    }
   ],
   "source": [
    "_logger.info(f\"Train dataset shape: {train_df.shape}\")\n",
    "_logger.info(f\"Test dataset shape: {test_df.shape}\")\n",
    "_logger.info(f\"Difference in columns between both datasets: {set(train_df.columns).symmetric_difference(set(test_df.columns))}\")\n",
    "_logger.info(f\"Customer IDs which are in both datasets: {set(train_df['ID']).intersection(set(test_df['ID']))}\")"
   ]
  },
  {
   "cell_type": "code",
   "execution_count": 6,
   "metadata": {},
   "outputs": [
    {
     "data": {
      "text/html": [
       "<pre style=\"white-space:pre;overflow-x:auto;line-height:normal;font-family:Menlo,'DejaVu Sans Mono',consolas,'Courier New',monospace\"></pre>\n"
      ],
      "text/plain": []
     },
     "metadata": {},
     "output_type": "display_data"
    },
    {
     "data": {
      "text/html": [
       "<div>\n",
       "<style scoped>\n",
       "    .dataframe tbody tr th:only-of-type {\n",
       "        vertical-align: middle;\n",
       "    }\n",
       "\n",
       "    .dataframe tbody tr th {\n",
       "        vertical-align: top;\n",
       "    }\n",
       "\n",
       "    .dataframe thead th {\n",
       "        text-align: right;\n",
       "    }\n",
       "</style>\n",
       "<table border=\"1\" class=\"dataframe\">\n",
       "  <thead>\n",
       "    <tr style=\"text-align: right;\">\n",
       "      <th></th>\n",
       "      <th>ID</th>\n",
       "      <th>LOAN_AMOUNT</th>\n",
       "      <th>FUNDED_AMOUNT</th>\n",
       "      <th>FUNDED_AMOUNT_INVESTOR</th>\n",
       "      <th>TERM</th>\n",
       "      <th>BATCH_ENROLLED</th>\n",
       "      <th>INTEREST_RATE</th>\n",
       "      <th>GRADE</th>\n",
       "      <th>SUB_GRADE</th>\n",
       "      <th>EMPLOYMENT_DURATION</th>\n",
       "      <th>HOME_OWNERSHIP</th>\n",
       "      <th>VERIFICATION_STATUS</th>\n",
       "      <th>PAYMENT_PLAN</th>\n",
       "      <th>LOAN_TITLE</th>\n",
       "      <th>DEBIT_TO_INCOME</th>\n",
       "      <th>DELINQUENCY_TWO_YEARS</th>\n",
       "      <th>INQUIRES_SIX_MONTHS</th>\n",
       "      <th>OPEN_ACCOUNT</th>\n",
       "      <th>PUBLIC_RECORD</th>\n",
       "      <th>REVOLVING_BALANCE</th>\n",
       "      <th>REVOLVING_UTILITIES</th>\n",
       "      <th>TOTAL_ACCOUNTS</th>\n",
       "      <th>INITIAL_LIST_STATUS</th>\n",
       "      <th>TOTAL_RECEIVED_INTEREST</th>\n",
       "      <th>TOTAL_RECEIVED_LATE_FEE</th>\n",
       "      <th>RECOVERIES</th>\n",
       "      <th>COLLECTION_RECOVERY_FEE</th>\n",
       "      <th>COLLECTION_12_MONTHS_MEDICAL</th>\n",
       "      <th>APPLICATION_TYPE</th>\n",
       "      <th>LAST_WEEK_PAY</th>\n",
       "      <th>ACCOUNTS_DELINQUENT</th>\n",
       "      <th>TOTAL_COLLECTION_AMOUNT</th>\n",
       "      <th>TOTAL_CURRENT_BALANCE</th>\n",
       "      <th>TOTAL_REVOLVING_CREDIT_LIMIT</th>\n",
       "      <th>LOAN_STATUS</th>\n",
       "      <th>__HOME_OWNERSHIP__</th>\n",
       "    </tr>\n",
       "  </thead>\n",
       "  <tbody>\n",
       "    <tr>\n",
       "      <th>0</th>\n",
       "      <td>65087372</td>\n",
       "      <td>10000</td>\n",
       "      <td>32236</td>\n",
       "      <td>12329.36286</td>\n",
       "      <td>59</td>\n",
       "      <td>BAT2522922</td>\n",
       "      <td>11.135007</td>\n",
       "      <td>B</td>\n",
       "      <td>C4</td>\n",
       "      <td>MORTGAGE</td>\n",
       "      <td>MORTGAGE</td>\n",
       "      <td>Not Verified</td>\n",
       "      <td>n</td>\n",
       "      <td>Debt Consolidation</td>\n",
       "      <td>16.284758</td>\n",
       "      <td>1</td>\n",
       "      <td>0</td>\n",
       "      <td>13</td>\n",
       "      <td>0</td>\n",
       "      <td>24246</td>\n",
       "      <td>74.932551</td>\n",
       "      <td>7</td>\n",
       "      <td>WAITING</td>\n",
       "      <td>2929.646315</td>\n",
       "      <td>0.102055</td>\n",
       "      <td>2.498291</td>\n",
       "      <td>0.793724</td>\n",
       "      <td>0</td>\n",
       "      <td>INDIVIDUAL</td>\n",
       "      <td>49</td>\n",
       "      <td>0</td>\n",
       "      <td>31</td>\n",
       "      <td>311301</td>\n",
       "      <td>6619</td>\n",
       "      <td>0</td>\n",
       "      <td>176346.62670</td>\n",
       "    </tr>\n",
       "    <tr>\n",
       "      <th>1</th>\n",
       "      <td>1450153</td>\n",
       "      <td>3609</td>\n",
       "      <td>11940</td>\n",
       "      <td>12191.99692</td>\n",
       "      <td>59</td>\n",
       "      <td>BAT1586599</td>\n",
       "      <td>12.237563</td>\n",
       "      <td>C</td>\n",
       "      <td>D3</td>\n",
       "      <td>RENT</td>\n",
       "      <td>RENT</td>\n",
       "      <td>Source Verified</td>\n",
       "      <td>n</td>\n",
       "      <td>Debt consolidation</td>\n",
       "      <td>15.412409</td>\n",
       "      <td>0</td>\n",
       "      <td>0</td>\n",
       "      <td>12</td>\n",
       "      <td>0</td>\n",
       "      <td>812</td>\n",
       "      <td>78.297186</td>\n",
       "      <td>13</td>\n",
       "      <td>FORWARDED</td>\n",
       "      <td>772.769385</td>\n",
       "      <td>0.036181</td>\n",
       "      <td>2.377215</td>\n",
       "      <td>0.974821</td>\n",
       "      <td>0</td>\n",
       "      <td>INDIVIDUAL</td>\n",
       "      <td>109</td>\n",
       "      <td>0</td>\n",
       "      <td>53</td>\n",
       "      <td>182610</td>\n",
       "      <td>20885</td>\n",
       "      <td>0</td>\n",
       "      <td>39833.92100</td>\n",
       "    </tr>\n",
       "    <tr>\n",
       "      <th>2</th>\n",
       "      <td>1969101</td>\n",
       "      <td>28276</td>\n",
       "      <td>9311</td>\n",
       "      <td>21603.22455</td>\n",
       "      <td>59</td>\n",
       "      <td>BAT2136391</td>\n",
       "      <td>12.545884</td>\n",
       "      <td>F</td>\n",
       "      <td>D4</td>\n",
       "      <td>MORTGAGE</td>\n",
       "      <td>MORTGAGE</td>\n",
       "      <td>Source Verified</td>\n",
       "      <td>n</td>\n",
       "      <td>Debt Consolidation</td>\n",
       "      <td>28.137619</td>\n",
       "      <td>0</td>\n",
       "      <td>0</td>\n",
       "      <td>14</td>\n",
       "      <td>0</td>\n",
       "      <td>1843</td>\n",
       "      <td>2.073040</td>\n",
       "      <td>20</td>\n",
       "      <td>WAITING</td>\n",
       "      <td>863.324396</td>\n",
       "      <td>18.778660</td>\n",
       "      <td>4.316277</td>\n",
       "      <td>1.020075</td>\n",
       "      <td>0</td>\n",
       "      <td>INDIVIDUAL</td>\n",
       "      <td>66</td>\n",
       "      <td>0</td>\n",
       "      <td>34</td>\n",
       "      <td>89801</td>\n",
       "      <td>26155</td>\n",
       "      <td>0</td>\n",
       "      <td>91506.69105</td>\n",
       "    </tr>\n",
       "    <tr>\n",
       "      <th>3</th>\n",
       "      <td>6651430</td>\n",
       "      <td>11170</td>\n",
       "      <td>6954</td>\n",
       "      <td>17877.15585</td>\n",
       "      <td>59</td>\n",
       "      <td>BAT2428731</td>\n",
       "      <td>16.731201</td>\n",
       "      <td>C</td>\n",
       "      <td>C3</td>\n",
       "      <td>MORTGAGE</td>\n",
       "      <td>MORTGAGE</td>\n",
       "      <td>Source Verified</td>\n",
       "      <td>n</td>\n",
       "      <td>Debt consolidation</td>\n",
       "      <td>18.043730</td>\n",
       "      <td>1</td>\n",
       "      <td>0</td>\n",
       "      <td>7</td>\n",
       "      <td>0</td>\n",
       "      <td>13819</td>\n",
       "      <td>67.467951</td>\n",
       "      <td>12</td>\n",
       "      <td>WAITING</td>\n",
       "      <td>288.173196</td>\n",
       "      <td>0.044131</td>\n",
       "      <td>0.107020</td>\n",
       "      <td>0.749971</td>\n",
       "      <td>0</td>\n",
       "      <td>INDIVIDUAL</td>\n",
       "      <td>39</td>\n",
       "      <td>0</td>\n",
       "      <td>40</td>\n",
       "      <td>9189</td>\n",
       "      <td>60214</td>\n",
       "      <td>0</td>\n",
       "      <td>108286.57590</td>\n",
       "    </tr>\n",
       "    <tr>\n",
       "      <th>4</th>\n",
       "      <td>14354669</td>\n",
       "      <td>16890</td>\n",
       "      <td>13226</td>\n",
       "      <td>13539.92667</td>\n",
       "      <td>59</td>\n",
       "      <td>BAT5341619</td>\n",
       "      <td>15.008300</td>\n",
       "      <td>C</td>\n",
       "      <td>D4</td>\n",
       "      <td>MORTGAGE</td>\n",
       "      <td>MORTGAGE</td>\n",
       "      <td>Source Verified</td>\n",
       "      <td>n</td>\n",
       "      <td>Credit card refinancing</td>\n",
       "      <td>17.209886</td>\n",
       "      <td>1</td>\n",
       "      <td>3</td>\n",
       "      <td>13</td>\n",
       "      <td>1</td>\n",
       "      <td>1544</td>\n",
       "      <td>85.250761</td>\n",
       "      <td>22</td>\n",
       "      <td>WAITING</td>\n",
       "      <td>129.239553</td>\n",
       "      <td>19.306646</td>\n",
       "      <td>1294.818751</td>\n",
       "      <td>0.368953</td>\n",
       "      <td>0</td>\n",
       "      <td>INDIVIDUAL</td>\n",
       "      <td>18</td>\n",
       "      <td>0</td>\n",
       "      <td>430</td>\n",
       "      <td>126029</td>\n",
       "      <td>22579</td>\n",
       "      <td>0</td>\n",
       "      <td>44234.82545</td>\n",
       "    </tr>\n",
       "  </tbody>\n",
       "</table>\n",
       "</div>"
      ],
      "text/plain": [
       "\n",
       "         ID  LOAN_AMOUNT  FUNDED_AMOUNT  FUNDED_AMOUNT_INVESTOR  TERM  \\\n",
       "\u001b[1;36m0\u001b[0m  \u001b[1;36m65087372\u001b[0m        \u001b[1;36m10000\u001b[0m          \u001b[1;36m32236\u001b[0m             \u001b[1;36m12329.36286\u001b[0m    \u001b[1;36m59\u001b[0m   \n",
       "\u001b[1;36m1\u001b[0m   \u001b[1;36m1450153\u001b[0m         \u001b[1;36m3609\u001b[0m          \u001b[1;36m11940\u001b[0m             \u001b[1;36m12191.99692\u001b[0m    \u001b[1;36m59\u001b[0m   \n",
       "\u001b[1;36m2\u001b[0m   \u001b[1;36m1969101\u001b[0m        \u001b[1;36m28276\u001b[0m           \u001b[1;36m9311\u001b[0m             \u001b[1;36m21603.22455\u001b[0m    \u001b[1;36m59\u001b[0m   \n",
       "\u001b[1;36m3\u001b[0m   \u001b[1;36m6651430\u001b[0m        \u001b[1;36m11170\u001b[0m           \u001b[1;36m6954\u001b[0m             \u001b[1;36m17877.15585\u001b[0m    \u001b[1;36m59\u001b[0m   \n",
       "\u001b[1;36m4\u001b[0m  \u001b[1;36m14354669\u001b[0m        \u001b[1;36m16890\u001b[0m          \u001b[1;36m13226\u001b[0m             \u001b[1;36m13539.92667\u001b[0m    \u001b[1;36m59\u001b[0m   \n",
       "\n",
       "  BATCH_ENROLLED  INTEREST_RATE GRADE SUB_GRADE EMPLOYMENT_DURATION  \\\n",
       "\u001b[1;36m0\u001b[0m     BAT2522922      \u001b[1;36m11.135007\u001b[0m     B        C4            MORTGAGE   \n",
       "\u001b[1;36m1\u001b[0m     BAT1586599      \u001b[1;36m12.237563\u001b[0m     C        D3                RENT   \n",
       "\u001b[1;36m2\u001b[0m     BAT2136391      \u001b[1;36m12.545884\u001b[0m     F        D4            MORTGAGE   \n",
       "\u001b[1;36m3\u001b[0m     BAT2428731      \u001b[1;36m16.731201\u001b[0m     C        C3            MORTGAGE   \n",
       "\u001b[1;36m4\u001b[0m     BAT5341619      \u001b[1;36m15.008300\u001b[0m     C        D4            MORTGAGE   \n",
       "\n",
       "  HOME_OWNERSHIP VERIFICATION_STATUS PAYMENT_PLAN               LOAN_TITLE  \\\n",
       "\u001b[1;36m0\u001b[0m       MORTGAGE        Not Verified            n       Debt Consolidation   \n",
       "\u001b[1;36m1\u001b[0m           RENT     Source Verified            n       Debt consolidation   \n",
       "\u001b[1;36m2\u001b[0m       MORTGAGE     Source Verified            n       Debt Consolidation   \n",
       "\u001b[1;36m3\u001b[0m       MORTGAGE     Source Verified            n       Debt consolidation   \n",
       "\u001b[1;36m4\u001b[0m       MORTGAGE     Source Verified            n  Credit card refinancing   \n",
       "\n",
       "   DEBIT_TO_INCOME  DELINQUENCY_TWO_YEARS  INQUIRES_SIX_MONTHS  OPEN_ACCOUNT  \\\n",
       "\u001b[1;36m0\u001b[0m        \u001b[1;36m16.284758\u001b[0m                      \u001b[1;36m1\u001b[0m                    \u001b[1;36m0\u001b[0m            \u001b[1;36m13\u001b[0m   \n",
       "\u001b[1;36m1\u001b[0m        \u001b[1;36m15.412409\u001b[0m                      \u001b[1;36m0\u001b[0m                    \u001b[1;36m0\u001b[0m            \u001b[1;36m12\u001b[0m   \n",
       "\u001b[1;36m2\u001b[0m        \u001b[1;36m28.137619\u001b[0m                      \u001b[1;36m0\u001b[0m                    \u001b[1;36m0\u001b[0m            \u001b[1;36m14\u001b[0m   \n",
       "\u001b[1;36m3\u001b[0m        \u001b[1;36m18.043730\u001b[0m                      \u001b[1;36m1\u001b[0m                    \u001b[1;36m0\u001b[0m             \u001b[1;36m7\u001b[0m   \n",
       "\u001b[1;36m4\u001b[0m        \u001b[1;36m17.209886\u001b[0m                      \u001b[1;36m1\u001b[0m                    \u001b[1;36m3\u001b[0m            \u001b[1;36m13\u001b[0m   \n",
       "\n",
       "   PUBLIC_RECORD  REVOLVING_BALANCE  REVOLVING_UTILITIES  TOTAL_ACCOUNTS  \\\n",
       "\u001b[1;36m0\u001b[0m              \u001b[1;36m0\u001b[0m              \u001b[1;36m24246\u001b[0m            \u001b[1;36m74.932551\u001b[0m               \u001b[1;36m7\u001b[0m   \n",
       "\u001b[1;36m1\u001b[0m              \u001b[1;36m0\u001b[0m                \u001b[1;36m812\u001b[0m            \u001b[1;36m78.297186\u001b[0m              \u001b[1;36m13\u001b[0m   \n",
       "\u001b[1;36m2\u001b[0m              \u001b[1;36m0\u001b[0m               \u001b[1;36m1843\u001b[0m             \u001b[1;36m2.073040\u001b[0m              \u001b[1;36m20\u001b[0m   \n",
       "\u001b[1;36m3\u001b[0m              \u001b[1;36m0\u001b[0m              \u001b[1;36m13819\u001b[0m            \u001b[1;36m67.467951\u001b[0m              \u001b[1;36m12\u001b[0m   \n",
       "\u001b[1;36m4\u001b[0m              \u001b[1;36m1\u001b[0m               \u001b[1;36m1544\u001b[0m            \u001b[1;36m85.250761\u001b[0m              \u001b[1;36m22\u001b[0m   \n",
       "\n",
       "  INITIAL_LIST_STATUS  TOTAL_RECEIVED_INTEREST  TOTAL_RECEIVED_LATE_FEE  \\\n",
       "\u001b[1;36m0\u001b[0m             WAITING              \u001b[1;36m2929.646315\u001b[0m                 \u001b[1;36m0.102055\u001b[0m   \n",
       "\u001b[1;36m1\u001b[0m           FORWARDED               \u001b[1;36m772.769385\u001b[0m                 \u001b[1;36m0.036181\u001b[0m   \n",
       "\u001b[1;36m2\u001b[0m             WAITING               \u001b[1;36m863.324396\u001b[0m                \u001b[1;36m18.778660\u001b[0m   \n",
       "\u001b[1;36m3\u001b[0m             WAITING               \u001b[1;36m288.173196\u001b[0m                 \u001b[1;36m0.044131\u001b[0m   \n",
       "\u001b[1;36m4\u001b[0m             WAITING               \u001b[1;36m129.239553\u001b[0m                \u001b[1;36m19.306646\u001b[0m   \n",
       "\n",
       "    RECOVERIES  COLLECTION_RECOVERY_FEE  COLLECTION_12_MONTHS_MEDICAL  \\\n",
       "\u001b[1;36m0\u001b[0m     \u001b[1;36m2.498291\u001b[0m                 \u001b[1;36m0.793724\u001b[0m                             \u001b[1;36m0\u001b[0m   \n",
       "\u001b[1;36m1\u001b[0m     \u001b[1;36m2.377215\u001b[0m                 \u001b[1;36m0.974821\u001b[0m                             \u001b[1;36m0\u001b[0m   \n",
       "\u001b[1;36m2\u001b[0m     \u001b[1;36m4.316277\u001b[0m                 \u001b[1;36m1.020075\u001b[0m                             \u001b[1;36m0\u001b[0m   \n",
       "\u001b[1;36m3\u001b[0m     \u001b[1;36m0.107020\u001b[0m                 \u001b[1;36m0.749971\u001b[0m                             \u001b[1;36m0\u001b[0m   \n",
       "\u001b[1;36m4\u001b[0m  \u001b[1;36m1294.818751\u001b[0m                 \u001b[1;36m0.368953\u001b[0m                             \u001b[1;36m0\u001b[0m   \n",
       "\n",
       "  APPLICATION_TYPE  LAST_WEEK_PAY  ACCOUNTS_DELINQUENT  \\\n",
       "\u001b[1;36m0\u001b[0m       INDIVIDUAL             \u001b[1;36m49\u001b[0m                    \u001b[1;36m0\u001b[0m   \n",
       "\u001b[1;36m1\u001b[0m       INDIVIDUAL            \u001b[1;36m109\u001b[0m                    \u001b[1;36m0\u001b[0m   \n",
       "\u001b[1;36m2\u001b[0m       INDIVIDUAL             \u001b[1;36m66\u001b[0m                    \u001b[1;36m0\u001b[0m   \n",
       "\u001b[1;36m3\u001b[0m       INDIVIDUAL             \u001b[1;36m39\u001b[0m                    \u001b[1;36m0\u001b[0m   \n",
       "\u001b[1;36m4\u001b[0m       INDIVIDUAL             \u001b[1;36m18\u001b[0m                    \u001b[1;36m0\u001b[0m   \n",
       "\n",
       "   TOTAL_COLLECTION_AMOUNT  TOTAL_CURRENT_BALANCE  \\\n",
       "\u001b[1;36m0\u001b[0m                       \u001b[1;36m31\u001b[0m                 \u001b[1;36m311301\u001b[0m   \n",
       "\u001b[1;36m1\u001b[0m                       \u001b[1;36m53\u001b[0m                 \u001b[1;36m182610\u001b[0m   \n",
       "\u001b[1;36m2\u001b[0m                       \u001b[1;36m34\u001b[0m                  \u001b[1;36m89801\u001b[0m   \n",
       "\u001b[1;36m3\u001b[0m                       \u001b[1;36m40\u001b[0m                   \u001b[1;36m9189\u001b[0m   \n",
       "\u001b[1;36m4\u001b[0m                      \u001b[1;36m430\u001b[0m                 \u001b[1;36m126029\u001b[0m   \n",
       "\n",
       "   TOTAL_REVOLVING_CREDIT_LIMIT  LOAN_STATUS  __HOME_OWNERSHIP__  \n",
       "\u001b[1;36m0\u001b[0m                          \u001b[1;36m6619\u001b[0m            \u001b[1;36m0\u001b[0m        \u001b[1;36m176346.62670\u001b[0m  \n",
       "\u001b[1;36m1\u001b[0m                         \u001b[1;36m20885\u001b[0m            \u001b[1;36m0\u001b[0m         \u001b[1;36m39833.92100\u001b[0m  \n",
       "\u001b[1;36m2\u001b[0m                         \u001b[1;36m26155\u001b[0m            \u001b[1;36m0\u001b[0m         \u001b[1;36m91506.69105\u001b[0m  \n",
       "\u001b[1;36m3\u001b[0m                         \u001b[1;36m60214\u001b[0m            \u001b[1;36m0\u001b[0m        \u001b[1;36m108286.57590\u001b[0m  \n",
       "\u001b[1;36m4\u001b[0m                         \u001b[1;36m22579\u001b[0m            \u001b[1;36m0\u001b[0m         \u001b[1;36m44234.82545\u001b[0m  "
      ]
     },
     "execution_count": 6,
     "metadata": {},
     "output_type": "execute_result"
    }
   ],
   "source": [
    "train_df.head()"
   ]
  },
  {
   "cell_type": "code",
   "execution_count": 9,
   "metadata": {},
   "outputs": [
    {
     "data": {
      "text/html": [
       "<pre style=\"white-space:pre;overflow-x:auto;line-height:normal;font-family:Menlo,'DejaVu Sans Mono',consolas,'Courier New',monospace\"></pre>\n"
      ],
      "text/plain": []
     },
     "metadata": {},
     "output_type": "display_data"
    },
    {
     "data": {
      "text/html": [
       "<div>\n",
       "<style scoped>\n",
       "    .dataframe tbody tr th:only-of-type {\n",
       "        vertical-align: middle;\n",
       "    }\n",
       "\n",
       "    .dataframe tbody tr th {\n",
       "        vertical-align: top;\n",
       "    }\n",
       "\n",
       "    .dataframe thead th {\n",
       "        text-align: right;\n",
       "    }\n",
       "</style>\n",
       "<table border=\"1\" class=\"dataframe\">\n",
       "  <thead>\n",
       "    <tr style=\"text-align: right;\">\n",
       "      <th></th>\n",
       "      <th>ID</th>\n",
       "      <th>LOAN_AMOUNT</th>\n",
       "      <th>FUNDED_AMOUNT</th>\n",
       "      <th>FUNDED_AMOUNT_INVESTOR</th>\n",
       "      <th>TERM</th>\n",
       "      <th>BATCH_ENROLLED</th>\n",
       "      <th>INTEREST_RATE</th>\n",
       "      <th>GRADE</th>\n",
       "      <th>SUB_GRADE</th>\n",
       "      <th>EMPLOYMENT_DURATION</th>\n",
       "      <th>HOME_OWNERSHIP</th>\n",
       "      <th>VERIFICATION_STATUS</th>\n",
       "      <th>PAYMENT_PLAN</th>\n",
       "      <th>LOAN_TITLE</th>\n",
       "      <th>DEBIT_TO_INCOME</th>\n",
       "      <th>DELINQUENCY_TWO_YEARS</th>\n",
       "      <th>INQUIRES_SIX_MONTHS</th>\n",
       "      <th>OPEN_ACCOUNT</th>\n",
       "      <th>PUBLIC_RECORD</th>\n",
       "      <th>REVOLVING_BALANCE</th>\n",
       "      <th>REVOLVING_UTILITIES</th>\n",
       "      <th>TOTAL_ACCOUNTS</th>\n",
       "      <th>INITIAL_LIST_STATUS</th>\n",
       "      <th>TOTAL_RECEIVED_INTEREST</th>\n",
       "      <th>TOTAL_RECEIVED_LATE_FEE</th>\n",
       "      <th>RECOVERIES</th>\n",
       "      <th>COLLECTION_RECOVERY_FEE</th>\n",
       "      <th>COLLECTION_12_MONTHS_MEDICAL</th>\n",
       "      <th>APPLICATION_TYPE</th>\n",
       "      <th>LAST_WEEK_PAY</th>\n",
       "      <th>ACCOUNTS_DELINQUENT</th>\n",
       "      <th>TOTAL_COLLECTION_AMOUNT</th>\n",
       "      <th>TOTAL_CURRENT_BALANCE</th>\n",
       "      <th>TOTAL_REVOLVING_CREDIT_LIMIT</th>\n",
       "      <th>LOAN_STATUS</th>\n",
       "      <th>__HOME_OWNERSHIP__</th>\n",
       "    </tr>\n",
       "  </thead>\n",
       "  <tbody>\n",
       "    <tr>\n",
       "      <th>0</th>\n",
       "      <td>56492997</td>\n",
       "      <td>17120</td>\n",
       "      <td>10365</td>\n",
       "      <td>16025.082690</td>\n",
       "      <td>59</td>\n",
       "      <td>BAT2575549</td>\n",
       "      <td>12.163926</td>\n",
       "      <td>A</td>\n",
       "      <td>D1</td>\n",
       "      <td>RENT</td>\n",
       "      <td>RENT</td>\n",
       "      <td>Source Verified</td>\n",
       "      <td>n</td>\n",
       "      <td>Home improvement</td>\n",
       "      <td>16.749219</td>\n",
       "      <td>1</td>\n",
       "      <td>0</td>\n",
       "      <td>12</td>\n",
       "      <td>1</td>\n",
       "      <td>3576</td>\n",
       "      <td>67.278287</td>\n",
       "      <td>5</td>\n",
       "      <td>FORWARDED</td>\n",
       "      <td>4469.449851</td>\n",
       "      <td>0.088031</td>\n",
       "      <td>8.425776</td>\n",
       "      <td>0.731797</td>\n",
       "      <td>0</td>\n",
       "      <td>INDIVIDUAL</td>\n",
       "      <td>135</td>\n",
       "      <td>0</td>\n",
       "      <td>24</td>\n",
       "      <td>475442</td>\n",
       "      <td>4364</td>\n",
       "      <td>NaN</td>\n",
       "      <td>76468.82190</td>\n",
       "    </tr>\n",
       "    <tr>\n",
       "      <th>1</th>\n",
       "      <td>22540813</td>\n",
       "      <td>7133</td>\n",
       "      <td>11650</td>\n",
       "      <td>12615.795600</td>\n",
       "      <td>59</td>\n",
       "      <td>BAT2833642</td>\n",
       "      <td>6.564296</td>\n",
       "      <td>B</td>\n",
       "      <td>E3</td>\n",
       "      <td>MORTGAGE</td>\n",
       "      <td>MORTGAGE</td>\n",
       "      <td>Source Verified</td>\n",
       "      <td>n</td>\n",
       "      <td>Credit card refinancing</td>\n",
       "      <td>18.157975</td>\n",
       "      <td>0</td>\n",
       "      <td>0</td>\n",
       "      <td>11</td>\n",
       "      <td>0</td>\n",
       "      <td>1932</td>\n",
       "      <td>71.313157</td>\n",
       "      <td>21</td>\n",
       "      <td>WAITING</td>\n",
       "      <td>993.907530</td>\n",
       "      <td>0.041237</td>\n",
       "      <td>6.157008</td>\n",
       "      <td>0.992918</td>\n",
       "      <td>0</td>\n",
       "      <td>INDIVIDUAL</td>\n",
       "      <td>56</td>\n",
       "      <td>0</td>\n",
       "      <td>1</td>\n",
       "      <td>72412</td>\n",
       "      <td>2573</td>\n",
       "      <td>NaN</td>\n",
       "      <td>38079.01344</td>\n",
       "    </tr>\n",
       "    <tr>\n",
       "      <th>2</th>\n",
       "      <td>9862181</td>\n",
       "      <td>25291</td>\n",
       "      <td>25825</td>\n",
       "      <td>11621.280830</td>\n",
       "      <td>59</td>\n",
       "      <td>BAT1761981</td>\n",
       "      <td>14.729900</td>\n",
       "      <td>A</td>\n",
       "      <td>C3</td>\n",
       "      <td>MORTGAGE</td>\n",
       "      <td>MORTGAGE</td>\n",
       "      <td>Source Verified</td>\n",
       "      <td>n</td>\n",
       "      <td>Debt consolidation</td>\n",
       "      <td>15.190011</td>\n",
       "      <td>0</td>\n",
       "      <td>0</td>\n",
       "      <td>22</td>\n",
       "      <td>0</td>\n",
       "      <td>598</td>\n",
       "      <td>50.883065</td>\n",
       "      <td>23</td>\n",
       "      <td>FORWARDED</td>\n",
       "      <td>729.113379</td>\n",
       "      <td>0.021745</td>\n",
       "      <td>5.705077</td>\n",
       "      <td>0.281580</td>\n",
       "      <td>0</td>\n",
       "      <td>INDIVIDUAL</td>\n",
       "      <td>3</td>\n",
       "      <td>0</td>\n",
       "      <td>26</td>\n",
       "      <td>284825</td>\n",
       "      <td>19676</td>\n",
       "      <td>NaN</td>\n",
       "      <td>51275.93268</td>\n",
       "    </tr>\n",
       "    <tr>\n",
       "      <th>3</th>\n",
       "      <td>10097822</td>\n",
       "      <td>30781</td>\n",
       "      <td>9664</td>\n",
       "      <td>15375.823510</td>\n",
       "      <td>59</td>\n",
       "      <td>BAT5341619</td>\n",
       "      <td>10.523767</td>\n",
       "      <td>A</td>\n",
       "      <td>A2</td>\n",
       "      <td>RENT</td>\n",
       "      <td>RENT</td>\n",
       "      <td>Verified</td>\n",
       "      <td>n</td>\n",
       "      <td>Debt Consolidation</td>\n",
       "      <td>21.292550</td>\n",
       "      <td>0</td>\n",
       "      <td>0</td>\n",
       "      <td>11</td>\n",
       "      <td>0</td>\n",
       "      <td>5222</td>\n",
       "      <td>82.449083</td>\n",
       "      <td>28</td>\n",
       "      <td>WAITING</td>\n",
       "      <td>715.867091</td>\n",
       "      <td>0.092398</td>\n",
       "      <td>2.469688</td>\n",
       "      <td>0.959162</td>\n",
       "      <td>0</td>\n",
       "      <td>INDIVIDUAL</td>\n",
       "      <td>21</td>\n",
       "      <td>0</td>\n",
       "      <td>32</td>\n",
       "      <td>40842</td>\n",
       "      <td>7226</td>\n",
       "      <td>NaN</td>\n",
       "      <td>68867.98965</td>\n",
       "    </tr>\n",
       "    <tr>\n",
       "      <th>4</th>\n",
       "      <td>47771809</td>\n",
       "      <td>8878</td>\n",
       "      <td>9419</td>\n",
       "      <td>7176.647582</td>\n",
       "      <td>58</td>\n",
       "      <td>BAT4694572</td>\n",
       "      <td>9.997013</td>\n",
       "      <td>C</td>\n",
       "      <td>B3</td>\n",
       "      <td>OWN</td>\n",
       "      <td>OWN</td>\n",
       "      <td>Verified</td>\n",
       "      <td>n</td>\n",
       "      <td>Debt consolidation</td>\n",
       "      <td>4.812117</td>\n",
       "      <td>0</td>\n",
       "      <td>0</td>\n",
       "      <td>11</td>\n",
       "      <td>0</td>\n",
       "      <td>553</td>\n",
       "      <td>49.075855</td>\n",
       "      <td>9</td>\n",
       "      <td>WAITING</td>\n",
       "      <td>248.572854</td>\n",
       "      <td>0.010354</td>\n",
       "      <td>2.127835</td>\n",
       "      <td>0.402315</td>\n",
       "      <td>0</td>\n",
       "      <td>INDIVIDUAL</td>\n",
       "      <td>104</td>\n",
       "      <td>0</td>\n",
       "      <td>33</td>\n",
       "      <td>90825</td>\n",
       "      <td>26145</td>\n",
       "      <td>NaN</td>\n",
       "      <td>91556.85423</td>\n",
       "    </tr>\n",
       "  </tbody>\n",
       "</table>\n",
       "</div>"
      ],
      "text/plain": [
       "\n",
       "         ID  LOAN_AMOUNT  FUNDED_AMOUNT  FUNDED_AMOUNT_INVESTOR  TERM  \\\n",
       "\u001b[1;36m0\u001b[0m  \u001b[1;36m56492997\u001b[0m        \u001b[1;36m17120\u001b[0m          \u001b[1;36m10365\u001b[0m            \u001b[1;36m16025.082690\u001b[0m    \u001b[1;36m59\u001b[0m   \n",
       "\u001b[1;36m1\u001b[0m  \u001b[1;36m22540813\u001b[0m         \u001b[1;36m7133\u001b[0m          \u001b[1;36m11650\u001b[0m            \u001b[1;36m12615.795600\u001b[0m    \u001b[1;36m59\u001b[0m   \n",
       "\u001b[1;36m2\u001b[0m   \u001b[1;36m9862181\u001b[0m        \u001b[1;36m25291\u001b[0m          \u001b[1;36m25825\u001b[0m            \u001b[1;36m11621.280830\u001b[0m    \u001b[1;36m59\u001b[0m   \n",
       "\u001b[1;36m3\u001b[0m  \u001b[1;36m10097822\u001b[0m        \u001b[1;36m30781\u001b[0m           \u001b[1;36m9664\u001b[0m            \u001b[1;36m15375.823510\u001b[0m    \u001b[1;36m59\u001b[0m   \n",
       "\u001b[1;36m4\u001b[0m  \u001b[1;36m47771809\u001b[0m         \u001b[1;36m8878\u001b[0m           \u001b[1;36m9419\u001b[0m             \u001b[1;36m7176.647582\u001b[0m    \u001b[1;36m58\u001b[0m   \n",
       "\n",
       "  BATCH_ENROLLED  INTEREST_RATE GRADE SUB_GRADE EMPLOYMENT_DURATION  \\\n",
       "\u001b[1;36m0\u001b[0m     BAT2575549      \u001b[1;36m12.163926\u001b[0m     A        D1                RENT   \n",
       "\u001b[1;36m1\u001b[0m     BAT2833642       \u001b[1;36m6.564296\u001b[0m     B        E3            MORTGAGE   \n",
       "\u001b[1;36m2\u001b[0m     BAT1761981      \u001b[1;36m14.729900\u001b[0m     A        C3            MORTGAGE   \n",
       "\u001b[1;36m3\u001b[0m     BAT5341619      \u001b[1;36m10.523767\u001b[0m     A        A2                RENT   \n",
       "\u001b[1;36m4\u001b[0m     BAT4694572       \u001b[1;36m9.997013\u001b[0m     C        B3                 OWN   \n",
       "\n",
       "  HOME_OWNERSHIP VERIFICATION_STATUS PAYMENT_PLAN               LOAN_TITLE  \\\n",
       "\u001b[1;36m0\u001b[0m           RENT     Source Verified            n         Home improvement   \n",
       "\u001b[1;36m1\u001b[0m       MORTGAGE     Source Verified            n  Credit card refinancing   \n",
       "\u001b[1;36m2\u001b[0m       MORTGAGE     Source Verified            n       Debt consolidation   \n",
       "\u001b[1;36m3\u001b[0m           RENT            Verified            n       Debt Consolidation   \n",
       "\u001b[1;36m4\u001b[0m            OWN            Verified            n       Debt consolidation   \n",
       "\n",
       "   DEBIT_TO_INCOME  DELINQUENCY_TWO_YEARS  INQUIRES_SIX_MONTHS  OPEN_ACCOUNT  \\\n",
       "\u001b[1;36m0\u001b[0m        \u001b[1;36m16.749219\u001b[0m                      \u001b[1;36m1\u001b[0m                    \u001b[1;36m0\u001b[0m            \u001b[1;36m12\u001b[0m   \n",
       "\u001b[1;36m1\u001b[0m        \u001b[1;36m18.157975\u001b[0m                      \u001b[1;36m0\u001b[0m                    \u001b[1;36m0\u001b[0m            \u001b[1;36m11\u001b[0m   \n",
       "\u001b[1;36m2\u001b[0m        \u001b[1;36m15.190011\u001b[0m                      \u001b[1;36m0\u001b[0m                    \u001b[1;36m0\u001b[0m            \u001b[1;36m22\u001b[0m   \n",
       "\u001b[1;36m3\u001b[0m        \u001b[1;36m21.292550\u001b[0m                      \u001b[1;36m0\u001b[0m                    \u001b[1;36m0\u001b[0m            \u001b[1;36m11\u001b[0m   \n",
       "\u001b[1;36m4\u001b[0m         \u001b[1;36m4.812117\u001b[0m                      \u001b[1;36m0\u001b[0m                    \u001b[1;36m0\u001b[0m            \u001b[1;36m11\u001b[0m   \n",
       "\n",
       "   PUBLIC_RECORD  REVOLVING_BALANCE  REVOLVING_UTILITIES  TOTAL_ACCOUNTS  \\\n",
       "\u001b[1;36m0\u001b[0m              \u001b[1;36m1\u001b[0m               \u001b[1;36m3576\u001b[0m            \u001b[1;36m67.278287\u001b[0m               \u001b[1;36m5\u001b[0m   \n",
       "\u001b[1;36m1\u001b[0m              \u001b[1;36m0\u001b[0m               \u001b[1;36m1932\u001b[0m            \u001b[1;36m71.313157\u001b[0m              \u001b[1;36m21\u001b[0m   \n",
       "\u001b[1;36m2\u001b[0m              \u001b[1;36m0\u001b[0m                \u001b[1;36m598\u001b[0m            \u001b[1;36m50.883065\u001b[0m              \u001b[1;36m23\u001b[0m   \n",
       "\u001b[1;36m3\u001b[0m              \u001b[1;36m0\u001b[0m               \u001b[1;36m5222\u001b[0m            \u001b[1;36m82.449083\u001b[0m              \u001b[1;36m28\u001b[0m   \n",
       "\u001b[1;36m4\u001b[0m              \u001b[1;36m0\u001b[0m                \u001b[1;36m553\u001b[0m            \u001b[1;36m49.075855\u001b[0m               \u001b[1;36m9\u001b[0m   \n",
       "\n",
       "  INITIAL_LIST_STATUS  TOTAL_RECEIVED_INTEREST  TOTAL_RECEIVED_LATE_FEE  \\\n",
       "\u001b[1;36m0\u001b[0m           FORWARDED              \u001b[1;36m4469.449851\u001b[0m                 \u001b[1;36m0.088031\u001b[0m   \n",
       "\u001b[1;36m1\u001b[0m             WAITING               \u001b[1;36m993.907530\u001b[0m                 \u001b[1;36m0.041237\u001b[0m   \n",
       "\u001b[1;36m2\u001b[0m           FORWARDED               \u001b[1;36m729.113379\u001b[0m                 \u001b[1;36m0.021745\u001b[0m   \n",
       "\u001b[1;36m3\u001b[0m             WAITING               \u001b[1;36m715.867091\u001b[0m                 \u001b[1;36m0.092398\u001b[0m   \n",
       "\u001b[1;36m4\u001b[0m             WAITING               \u001b[1;36m248.572854\u001b[0m                 \u001b[1;36m0.010354\u001b[0m   \n",
       "\n",
       "   RECOVERIES  COLLECTION_RECOVERY_FEE  COLLECTION_12_MONTHS_MEDICAL  \\\n",
       "\u001b[1;36m0\u001b[0m    \u001b[1;36m8.425776\u001b[0m                 \u001b[1;36m0.731797\u001b[0m                             \u001b[1;36m0\u001b[0m   \n",
       "\u001b[1;36m1\u001b[0m    \u001b[1;36m6.157008\u001b[0m                 \u001b[1;36m0.992918\u001b[0m                             \u001b[1;36m0\u001b[0m   \n",
       "\u001b[1;36m2\u001b[0m    \u001b[1;36m5.705077\u001b[0m                 \u001b[1;36m0.281580\u001b[0m                             \u001b[1;36m0\u001b[0m   \n",
       "\u001b[1;36m3\u001b[0m    \u001b[1;36m2.469688\u001b[0m                 \u001b[1;36m0.959162\u001b[0m                             \u001b[1;36m0\u001b[0m   \n",
       "\u001b[1;36m4\u001b[0m    \u001b[1;36m2.127835\u001b[0m                 \u001b[1;36m0.402315\u001b[0m                             \u001b[1;36m0\u001b[0m   \n",
       "\n",
       "  APPLICATION_TYPE  LAST_WEEK_PAY  ACCOUNTS_DELINQUENT  \\\n",
       "\u001b[1;36m0\u001b[0m       INDIVIDUAL            \u001b[1;36m135\u001b[0m                    \u001b[1;36m0\u001b[0m   \n",
       "\u001b[1;36m1\u001b[0m       INDIVIDUAL             \u001b[1;36m56\u001b[0m                    \u001b[1;36m0\u001b[0m   \n",
       "\u001b[1;36m2\u001b[0m       INDIVIDUAL              \u001b[1;36m3\u001b[0m                    \u001b[1;36m0\u001b[0m   \n",
       "\u001b[1;36m3\u001b[0m       INDIVIDUAL             \u001b[1;36m21\u001b[0m                    \u001b[1;36m0\u001b[0m   \n",
       "\u001b[1;36m4\u001b[0m       INDIVIDUAL            \u001b[1;36m104\u001b[0m                    \u001b[1;36m0\u001b[0m   \n",
       "\n",
       "   TOTAL_COLLECTION_AMOUNT  TOTAL_CURRENT_BALANCE  \\\n",
       "\u001b[1;36m0\u001b[0m                       \u001b[1;36m24\u001b[0m                 \u001b[1;36m475442\u001b[0m   \n",
       "\u001b[1;36m1\u001b[0m                        \u001b[1;36m1\u001b[0m                  \u001b[1;36m72412\u001b[0m   \n",
       "\u001b[1;36m2\u001b[0m                       \u001b[1;36m26\u001b[0m                 \u001b[1;36m284825\u001b[0m   \n",
       "\u001b[1;36m3\u001b[0m                       \u001b[1;36m32\u001b[0m                  \u001b[1;36m40842\u001b[0m   \n",
       "\u001b[1;36m4\u001b[0m                       \u001b[1;36m33\u001b[0m                  \u001b[1;36m90825\u001b[0m   \n",
       "\n",
       "   TOTAL_REVOLVING_CREDIT_LIMIT  LOAN_STATUS  __HOME_OWNERSHIP__  \n",
       "\u001b[1;36m0\u001b[0m                          \u001b[1;36m4364\u001b[0m          NaN         \u001b[1;36m76468.82190\u001b[0m  \n",
       "\u001b[1;36m1\u001b[0m                          \u001b[1;36m2573\u001b[0m          NaN         \u001b[1;36m38079.01344\u001b[0m  \n",
       "\u001b[1;36m2\u001b[0m                         \u001b[1;36m19676\u001b[0m          NaN         \u001b[1;36m51275.93268\u001b[0m  \n",
       "\u001b[1;36m3\u001b[0m                          \u001b[1;36m7226\u001b[0m          NaN         \u001b[1;36m68867.98965\u001b[0m  \n",
       "\u001b[1;36m4\u001b[0m                         \u001b[1;36m26145\u001b[0m          NaN         \u001b[1;36m91556.85423\u001b[0m  "
      ]
     },
     "execution_count": 9,
     "metadata": {},
     "output_type": "execute_result"
    }
   ],
   "source": [
    "test_df.head()"
   ]
  },
  {
   "cell_type": "code",
   "execution_count": 10,
   "metadata": {},
   "outputs": [
    {
     "data": {
      "text/html": [
       "<pre style=\"white-space:pre;overflow-x:auto;line-height:normal;font-family:Menlo,'DejaVu Sans Mono',consolas,'Courier New',monospace\"></pre>\n"
      ],
      "text/plain": []
     },
     "metadata": {},
     "output_type": "display_data"
    },
    {
     "data": {
      "text/plain": [
       "\n",
       "ID                              \u001b[1;36m0\u001b[0m\n",
       "LOAN_AMOUNT                     \u001b[1;36m0\u001b[0m\n",
       "FUNDED_AMOUNT                   \u001b[1;36m0\u001b[0m\n",
       "FUNDED_AMOUNT_INVESTOR          \u001b[1;36m0\u001b[0m\n",
       "TERM                            \u001b[1;36m0\u001b[0m\n",
       "BATCH_ENROLLED                  \u001b[1;36m0\u001b[0m\n",
       "INTEREST_RATE                   \u001b[1;36m0\u001b[0m\n",
       "GRADE                           \u001b[1;36m0\u001b[0m\n",
       "SUB_GRADE                       \u001b[1;36m0\u001b[0m\n",
       "EMPLOYMENT_DURATION             \u001b[1;36m0\u001b[0m\n",
       "HOME_OWNERSHIP                  \u001b[1;36m0\u001b[0m\n",
       "VERIFICATION_STATUS             \u001b[1;36m0\u001b[0m\n",
       "PAYMENT_PLAN                    \u001b[1;36m0\u001b[0m\n",
       "LOAN_TITLE                      \u001b[1;36m0\u001b[0m\n",
       "DEBIT_TO_INCOME                 \u001b[1;36m0\u001b[0m\n",
       "DELINQUENCY_TWO_YEARS           \u001b[1;36m0\u001b[0m\n",
       "INQUIRES_SIX_MONTHS             \u001b[1;36m0\u001b[0m\n",
       "OPEN_ACCOUNT                    \u001b[1;36m0\u001b[0m\n",
       "PUBLIC_RECORD                   \u001b[1;36m0\u001b[0m\n",
       "REVOLVING_BALANCE               \u001b[1;36m0\u001b[0m\n",
       "REVOLVING_UTILITIES             \u001b[1;36m0\u001b[0m\n",
       "TOTAL_ACCOUNTS                  \u001b[1;36m0\u001b[0m\n",
       "INITIAL_LIST_STATUS             \u001b[1;36m0\u001b[0m\n",
       "TOTAL_RECEIVED_INTEREST         \u001b[1;36m0\u001b[0m\n",
       "TOTAL_RECEIVED_LATE_FEE         \u001b[1;36m0\u001b[0m\n",
       "RECOVERIES                      \u001b[1;36m0\u001b[0m\n",
       "COLLECTION_RECOVERY_FEE         \u001b[1;36m0\u001b[0m\n",
       "COLLECTION_12_MONTHS_MEDICAL    \u001b[1;36m0\u001b[0m\n",
       "APPLICATION_TYPE                \u001b[1;36m0\u001b[0m\n",
       "LAST_WEEK_PAY                   \u001b[1;36m0\u001b[0m\n",
       "ACCOUNTS_DELINQUENT             \u001b[1;36m0\u001b[0m\n",
       "TOTAL_COLLECTION_AMOUNT         \u001b[1;36m0\u001b[0m\n",
       "TOTAL_CURRENT_BALANCE           \u001b[1;36m0\u001b[0m\n",
       "TOTAL_REVOLVING_CREDIT_LIMIT    \u001b[1;36m0\u001b[0m\n",
       "LOAN_STATUS                     \u001b[1;36m0\u001b[0m\n",
       "__HOME_OWNERSHIP__              \u001b[1;36m0\u001b[0m\n",
       "dtype: int64"
      ]
     },
     "execution_count": 10,
     "metadata": {},
     "output_type": "execute_result"
    }
   ],
   "source": [
    "train_df.isna().sum()"
   ]
  },
  {
   "cell_type": "code",
   "execution_count": 11,
   "metadata": {},
   "outputs": [
    {
     "data": {
      "text/html": [
       "<pre style=\"white-space:pre;overflow-x:auto;line-height:normal;font-family:Menlo,'DejaVu Sans Mono',consolas,'Courier New',monospace\"></pre>\n"
      ],
      "text/plain": []
     },
     "metadata": {},
     "output_type": "display_data"
    },
    {
     "data": {
      "text/plain": [
       "\n",
       "ID                                  \u001b[1;36m0\u001b[0m\n",
       "LOAN_AMOUNT                         \u001b[1;36m0\u001b[0m\n",
       "FUNDED_AMOUNT                       \u001b[1;36m0\u001b[0m\n",
       "FUNDED_AMOUNT_INVESTOR              \u001b[1;36m0\u001b[0m\n",
       "TERM                                \u001b[1;36m0\u001b[0m\n",
       "BATCH_ENROLLED                      \u001b[1;36m0\u001b[0m\n",
       "INTEREST_RATE                       \u001b[1;36m0\u001b[0m\n",
       "GRADE                               \u001b[1;36m0\u001b[0m\n",
       "SUB_GRADE                           \u001b[1;36m0\u001b[0m\n",
       "EMPLOYMENT_DURATION                 \u001b[1;36m0\u001b[0m\n",
       "HOME_OWNERSHIP                      \u001b[1;36m0\u001b[0m\n",
       "VERIFICATION_STATUS                 \u001b[1;36m0\u001b[0m\n",
       "PAYMENT_PLAN                        \u001b[1;36m0\u001b[0m\n",
       "LOAN_TITLE                          \u001b[1;36m0\u001b[0m\n",
       "DEBIT_TO_INCOME                     \u001b[1;36m0\u001b[0m\n",
       "DELINQUENCY_TWO_YEARS               \u001b[1;36m0\u001b[0m\n",
       "INQUIRES_SIX_MONTHS                 \u001b[1;36m0\u001b[0m\n",
       "OPEN_ACCOUNT                        \u001b[1;36m0\u001b[0m\n",
       "PUBLIC_RECORD                       \u001b[1;36m0\u001b[0m\n",
       "REVOLVING_BALANCE                   \u001b[1;36m0\u001b[0m\n",
       "REVOLVING_UTILITIES                 \u001b[1;36m0\u001b[0m\n",
       "TOTAL_ACCOUNTS                      \u001b[1;36m0\u001b[0m\n",
       "INITIAL_LIST_STATUS                 \u001b[1;36m0\u001b[0m\n",
       "TOTAL_RECEIVED_INTEREST             \u001b[1;36m0\u001b[0m\n",
       "TOTAL_RECEIVED_LATE_FEE             \u001b[1;36m0\u001b[0m\n",
       "RECOVERIES                          \u001b[1;36m0\u001b[0m\n",
       "COLLECTION_RECOVERY_FEE             \u001b[1;36m0\u001b[0m\n",
       "COLLECTION_12_MONTHS_MEDICAL        \u001b[1;36m0\u001b[0m\n",
       "APPLICATION_TYPE                    \u001b[1;36m0\u001b[0m\n",
       "LAST_WEEK_PAY                       \u001b[1;36m0\u001b[0m\n",
       "ACCOUNTS_DELINQUENT                 \u001b[1;36m0\u001b[0m\n",
       "TOTAL_COLLECTION_AMOUNT             \u001b[1;36m0\u001b[0m\n",
       "TOTAL_CURRENT_BALANCE               \u001b[1;36m0\u001b[0m\n",
       "TOTAL_REVOLVING_CREDIT_LIMIT        \u001b[1;36m0\u001b[0m\n",
       "LOAN_STATUS                     \u001b[1;36m28913\u001b[0m\n",
       "__HOME_OWNERSHIP__                  \u001b[1;36m0\u001b[0m\n",
       "dtype: int64"
      ]
     },
     "execution_count": 11,
     "metadata": {},
     "output_type": "execute_result"
    }
   ],
   "source": [
    "test_df.isna().sum()"
   ]
  },
  {
   "cell_type": "code",
   "execution_count": null,
   "metadata": {},
   "outputs": [],
   "source": []
  },
  {
   "cell_type": "code",
   "execution_count": null,
   "metadata": {},
   "outputs": [],
   "source": []
  },
  {
   "cell_type": "code",
   "execution_count": null,
   "metadata": {},
   "outputs": [],
   "source": []
  }
 ],
 "metadata": {
  "kernelspec": {
   "display_name": "bank-loan-defaulter-prediction",
   "language": "python",
   "name": "python3"
  },
  "language_info": {
   "codemirror_mode": {
    "name": "ipython",
    "version": 3
   },
   "file_extension": ".py",
   "mimetype": "text/x-python",
   "name": "python",
   "nbconvert_exporter": "python",
   "pygments_lexer": "ipython3",
   "version": "3.11.9"
  }
 },
 "nbformat": 4,
 "nbformat_minor": 2
}
